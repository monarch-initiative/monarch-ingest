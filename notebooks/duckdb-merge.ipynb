{
 "cells": [
  {
   "cell_type": "markdown",
   "source": [
    "Cat-merge is currently implemented using Pandas, this is an experiment to follow the same steps using Duckdb"
   ],
   "metadata": {
    "collapsed": false
   },
   "id": "28f80124497df9c4"
  },
  {
   "cell_type": "code",
   "execution_count": 2,
   "outputs": [
    {
     "name": "stdout",
     "output_type": "stream",
     "text": [
      "Requirement already satisfied: jupysql in /Users/kschaper/Documents/Monarch/monarch-ingest/.venv/lib/python3.10/site-packages (0.10.2)\r\n",
      "Requirement already satisfied: prettytable in /Users/kschaper/Documents/Monarch/monarch-ingest/.venv/lib/python3.10/site-packages (from jupysql) (3.9.0)\r\n",
      "Requirement already satisfied: ipython in /Users/kschaper/Documents/Monarch/monarch-ingest/.venv/lib/python3.10/site-packages (from jupysql) (8.16.1)\r\n",
      "Requirement already satisfied: sqlalchemy in /Users/kschaper/Documents/Monarch/monarch-ingest/.venv/lib/python3.10/site-packages (from jupysql) (1.4.49)\r\n",
      "Requirement already satisfied: sqlparse in /Users/kschaper/Documents/Monarch/monarch-ingest/.venv/lib/python3.10/site-packages (from jupysql) (0.4.4)\r\n",
      "Requirement already satisfied: ipython-genutils>=0.1.0 in /Users/kschaper/Documents/Monarch/monarch-ingest/.venv/lib/python3.10/site-packages (from jupysql) (0.2.0)\r\n",
      "Requirement already satisfied: jinja2 in /Users/kschaper/Documents/Monarch/monarch-ingest/.venv/lib/python3.10/site-packages (from jupysql) (3.1.2)\r\n",
      "Requirement already satisfied: sqlglot>=11.3.7 in /Users/kschaper/Documents/Monarch/monarch-ingest/.venv/lib/python3.10/site-packages (from jupysql) (19.0.3)\r\n",
      "Requirement already satisfied: ploomber-core>=0.2.7 in /Users/kschaper/Documents/Monarch/monarch-ingest/.venv/lib/python3.10/site-packages (from jupysql) (0.2.15)\r\n",
      "Requirement already satisfied: jupysql-plugin in /Users/kschaper/Documents/Monarch/monarch-ingest/.venv/lib/python3.10/site-packages (from jupysql) (0.2.6)\r\n",
      "Requirement already satisfied: click in /Users/kschaper/Documents/Monarch/monarch-ingest/.venv/lib/python3.10/site-packages (from ploomber-core>=0.2.7->jupysql) (8.1.7)\r\n",
      "Requirement already satisfied: pyyaml in /Users/kschaper/Documents/Monarch/monarch-ingest/.venv/lib/python3.10/site-packages (from ploomber-core>=0.2.7->jupysql) (6.0.1)\r\n",
      "Requirement already satisfied: posthog in /Users/kschaper/Documents/Monarch/monarch-ingest/.venv/lib/python3.10/site-packages (from ploomber-core>=0.2.7->jupysql) (3.0.2)\r\n",
      "Requirement already satisfied: backcall in /Users/kschaper/Documents/Monarch/monarch-ingest/.venv/lib/python3.10/site-packages (from ipython->jupysql) (0.2.0)\r\n",
      "Requirement already satisfied: decorator in /Users/kschaper/Documents/Monarch/monarch-ingest/.venv/lib/python3.10/site-packages (from ipython->jupysql) (5.1.1)\r\n",
      "Requirement already satisfied: jedi>=0.16 in /Users/kschaper/Documents/Monarch/monarch-ingest/.venv/lib/python3.10/site-packages (from ipython->jupysql) (0.19.1)\r\n",
      "Requirement already satisfied: matplotlib-inline in /Users/kschaper/Documents/Monarch/monarch-ingest/.venv/lib/python3.10/site-packages (from ipython->jupysql) (0.1.6)\r\n",
      "Requirement already satisfied: pickleshare in /Users/kschaper/Documents/Monarch/monarch-ingest/.venv/lib/python3.10/site-packages (from ipython->jupysql) (0.7.5)\r\n",
      "Requirement already satisfied: prompt-toolkit!=3.0.37,<3.1.0,>=3.0.30 in /Users/kschaper/Documents/Monarch/monarch-ingest/.venv/lib/python3.10/site-packages (from ipython->jupysql) (3.0.39)\r\n",
      "Requirement already satisfied: pygments>=2.4.0 in /Users/kschaper/Documents/Monarch/monarch-ingest/.venv/lib/python3.10/site-packages (from ipython->jupysql) (2.16.1)\r\n",
      "Requirement already satisfied: stack-data in /Users/kschaper/Documents/Monarch/monarch-ingest/.venv/lib/python3.10/site-packages (from ipython->jupysql) (0.6.3)\r\n",
      "Requirement already satisfied: traitlets>=5 in /Users/kschaper/Documents/Monarch/monarch-ingest/.venv/lib/python3.10/site-packages (from ipython->jupysql) (5.11.2)\r\n",
      "Requirement already satisfied: exceptiongroup in /Users/kschaper/Documents/Monarch/monarch-ingest/.venv/lib/python3.10/site-packages (from ipython->jupysql) (1.1.3)\r\n",
      "Requirement already satisfied: pexpect>4.3 in /Users/kschaper/Documents/Monarch/monarch-ingest/.venv/lib/python3.10/site-packages (from ipython->jupysql) (4.8.0)\r\n",
      "Requirement already satisfied: appnope in /Users/kschaper/Documents/Monarch/monarch-ingest/.venv/lib/python3.10/site-packages (from ipython->jupysql) (0.1.3)\r\n",
      "Requirement already satisfied: MarkupSafe>=2.0 in /Users/kschaper/Documents/Monarch/monarch-ingest/.venv/lib/python3.10/site-packages (from jinja2->jupysql) (2.1.3)\r\n",
      "Requirement already satisfied: wcwidth in /Users/kschaper/Documents/Monarch/monarch-ingest/.venv/lib/python3.10/site-packages (from prettytable->jupysql) (0.2.8)\r\n",
      "Requirement already satisfied: parso<0.9.0,>=0.8.3 in /Users/kschaper/Documents/Monarch/monarch-ingest/.venv/lib/python3.10/site-packages (from jedi>=0.16->ipython->jupysql) (0.8.3)\r\n",
      "Requirement already satisfied: ptyprocess>=0.5 in /Users/kschaper/Documents/Monarch/monarch-ingest/.venv/lib/python3.10/site-packages (from pexpect>4.3->ipython->jupysql) (0.7.0)\r\n",
      "Requirement already satisfied: requests<3.0,>=2.7 in /Users/kschaper/Documents/Monarch/monarch-ingest/.venv/lib/python3.10/site-packages (from posthog->ploomber-core>=0.2.7->jupysql) (2.31.0)\r\n",
      "Requirement already satisfied: six>=1.5 in /Users/kschaper/Documents/Monarch/monarch-ingest/.venv/lib/python3.10/site-packages (from posthog->ploomber-core>=0.2.7->jupysql) (1.16.0)\r\n",
      "Requirement already satisfied: monotonic>=1.5 in /Users/kschaper/Documents/Monarch/monarch-ingest/.venv/lib/python3.10/site-packages (from posthog->ploomber-core>=0.2.7->jupysql) (1.6)\r\n",
      "Requirement already satisfied: backoff>=1.10.0 in /Users/kschaper/Documents/Monarch/monarch-ingest/.venv/lib/python3.10/site-packages (from posthog->ploomber-core>=0.2.7->jupysql) (2.2.1)\r\n",
      "Requirement already satisfied: python-dateutil>2.1 in /Users/kschaper/Documents/Monarch/monarch-ingest/.venv/lib/python3.10/site-packages (from posthog->ploomber-core>=0.2.7->jupysql) (2.8.2)\r\n",
      "Requirement already satisfied: executing>=1.2.0 in /Users/kschaper/Documents/Monarch/monarch-ingest/.venv/lib/python3.10/site-packages (from stack-data->ipython->jupysql) (2.0.0)\r\n",
      "Requirement already satisfied: asttokens>=2.1.0 in /Users/kschaper/Documents/Monarch/monarch-ingest/.venv/lib/python3.10/site-packages (from stack-data->ipython->jupysql) (2.4.0)\r\n",
      "Requirement already satisfied: pure-eval in /Users/kschaper/Documents/Monarch/monarch-ingest/.venv/lib/python3.10/site-packages (from stack-data->ipython->jupysql) (0.2.2)\r\n",
      "Requirement already satisfied: charset-normalizer<4,>=2 in /Users/kschaper/Documents/Monarch/monarch-ingest/.venv/lib/python3.10/site-packages (from requests<3.0,>=2.7->posthog->ploomber-core>=0.2.7->jupysql) (3.2.0)\r\n",
      "Requirement already satisfied: idna<4,>=2.5 in /Users/kschaper/Documents/Monarch/monarch-ingest/.venv/lib/python3.10/site-packages (from requests<3.0,>=2.7->posthog->ploomber-core>=0.2.7->jupysql) (3.4)\r\n",
      "Requirement already satisfied: urllib3<3,>=1.21.1 in /Users/kschaper/Documents/Monarch/monarch-ingest/.venv/lib/python3.10/site-packages (from requests<3.0,>=2.7->posthog->ploomber-core>=0.2.7->jupysql) (1.26.16)\r\n",
      "Requirement already satisfied: certifi>=2017.4.17 in /Users/kschaper/Documents/Monarch/monarch-ingest/.venv/lib/python3.10/site-packages (from requests<3.0,>=2.7->posthog->ploomber-core>=0.2.7->jupysql) (2023.7.22)\r\n",
      "\r\n",
      "\u001B[1m[\u001B[0m\u001B[34;49mnotice\u001B[0m\u001B[1;39;49m]\u001B[0m\u001B[39;49m A new release of pip is available: \u001B[0m\u001B[31;49m23.1.2\u001B[0m\u001B[39;49m -> \u001B[0m\u001B[32;49m23.3.1\u001B[0m\r\n",
      "\u001B[1m[\u001B[0m\u001B[34;49mnotice\u001B[0m\u001B[1;39;49m]\u001B[0m\u001B[39;49m To update, run: \u001B[0m\u001B[32;49mpip install --upgrade pip\u001B[0m\r\n",
      "\u001B[33mThere's a new jupysql version available (0.10.3), you're running 0.10.2. To upgrade: pip install jupysql --upgrade\u001B[0m\n"
     ]
    },
    {
     "data": {
      "text/plain": "The 'toml' package isn't installed. To load settings from the pyproject.toml file, install with: pip install toml",
      "text/html": "<span style=\"None\">The &#x27;toml&#x27; package isn&#x27;t installed. To load settings from the pyproject.toml file, install with: pip install toml</span>"
     },
     "metadata": {},
     "output_type": "display_data"
    }
   ],
   "source": [
    "# install jupysql for pretty SQL output\n",
    "!pip install jupysql\n",
    "%load_ext sql"
   ],
   "metadata": {
    "collapsed": false,
    "ExecuteTime": {
     "end_time": "2023-11-07T22:17:02.696711Z",
     "start_time": "2023-11-07T22:16:58.341283Z"
    }
   },
   "id": "18b74ddb158a69a3"
  },
  {
   "cell_type": "code",
   "execution_count": 3,
   "outputs": [],
   "source": [
    "import duckdb\n",
    "\n",
    "# config\n",
    "input_dir = \"../output/transform_output\"\n",
    "output_dir = \"../output\"\n",
    "qc_dir = \"../output/qc\"\n",
    "kg_name = \"monarch-kg\"\n",
    "mapping_files = ['../data/monarch/mondo.sssom.tsv', '../data/monarch/gene_mappings.tsv', '../data/monarch/chebi-mesh.biomappings.sssom.tsv']\n",
    "\n",
    "# initialize the database\n",
    "db = duckdb.connect(database=f\"{output_dir}/monarch-kg.duckdb\")\n",
    "%sql db"
   ],
   "metadata": {
    "collapsed": false,
    "ExecuteTime": {
     "end_time": "2023-11-07T22:24:05.207962Z",
     "start_time": "2023-11-07T22:24:05.111257Z"
    }
   },
   "id": "926535e80c4d64fe"
  },
  {
   "cell_type": "markdown",
   "source": [
    "Loading multiple TSV files with overlapping but distinct schemas is a built-in feature of duckdb. \n",
    "\n",
    "The filename=true parameter of read_csv_auto captures the original filename, including the path, our provided_by value can be regex captured from this. The nested select allows for excluding the provided_by column which is populated with infores curies for a few ingests node ingests, but can't be included for edge ingests. This is a little awkward. We should probably pull the provided_by usage from those columns.\n"
   ],
   "metadata": {
    "collapsed": false
   },
   "id": "2c0c8aeca500cf05"
  },
  {
   "cell_type": "code",
   "execution_count": 4,
   "outputs": [
    {
     "data": {
      "text/plain": "FloatProgress(value=0.0, layout=Layout(width='auto'), style=ProgressStyle(bar_color='black'))",
      "application/vnd.jupyter.widget-view+json": {
       "version_major": 2,
       "version_minor": 0,
       "model_id": "c14f6b33fef24e929e3103131ea1156d"
      }
     },
     "metadata": {},
     "output_type": "display_data"
    }
   ],
   "source": [
    "for file in [\"edges\", \"nodes\"]:\n",
    "    db.execute(f\"\"\"\n",
    "        CREATE OR REPLACE TABLE all_{file} as (\n",
    "            SELECT * \n",
    "               EXCLUDE('filename'), \n",
    "               regexp_extract(filename, '/([a-z_]+).tsv', 1) as provided_by \n",
    "            FROM (\n",
    "                SELECT * { \"EXCLUDE('provided_by')\" if file == 'nodes' else '' } \n",
    "                FROM read_csv_auto('{input_dir}/*_{file}.tsv', sep='\\t', header=TRUE, union_by_name=true, filename=true)\n",
    "            )\n",
    "        );\n",
    "    \"\"\")\n",
    "\n"
   ],
   "metadata": {
    "collapsed": false,
    "ExecuteTime": {
     "end_time": "2023-11-07T22:24:16.392765Z",
     "start_time": "2023-11-07T22:24:07.895017Z"
    }
   },
   "id": "7b4d7c792bfc05e3"
  },
  {
   "cell_type": "code",
   "execution_count": 23,
   "outputs": [
    {
     "data": {
      "text/plain": "Running query in 'DuckDBPyConnection'",
      "text/html": "<span style=\"None\">Running query in &#x27;DuckDBPyConnection&#x27;</span>"
     },
     "metadata": {},
     "output_type": "display_data"
    },
    {
     "data": {
      "text/plain": "+------------------------+--------------+--------+-------------+----------------------------------------------------------------------------------------------------------------------+--------------------------------------------------------+------------------------------------------+----------------+----------------+--------+---------------------+\n|           id           |   category   |  name  | description |                                                         xref                                                         |                        synonym                         |                full_name                 |    in_taxon    | in_taxon_label | symbol |     provided_by     |\n+------------------------+--------------+--------+-------------+----------------------------------------------------------------------------------------------------------------------+--------------------------------------------------------+------------------------------------------+----------------+----------------+--------+---------------------+\n| ZFIN:ZDB-GENE-010226-1 | biolink:Gene | gdnfa  |     None    | PANTHER:PTHR12173|NCBIGene:79379|ZFIN:ZDB-GENE-010226-1|ENSEMBL:ENSDARG00000039959|UniProtKB:A7E220|UniProtKB:Q98TU0 |                          gdnf                          | glial cell derived neurotrophic factor a | NCBITaxon:7955 |  Danio rerio   | gdnfa  | alliance_gene_nodes |\n| ZFIN:ZDB-GENE-000823-4 | biolink:Gene | hoxa4a |     None    |  UniProtKB:Q9PWL5|PANTHER:PTHR24326|ZFIN:ZDB-GENE-000823-4|UniProtKB:A0A8M9PB41|UniProtKB:A0A8M9PNI5|NCBIGene:58050  | hoxx4|ZF-26|zf-es36|hoxzf26|zf26|ns:zf-es36|im:6899783 |               homeobox A4a               | NCBITaxon:7955 |  Danio rerio   | hoxa4a | alliance_gene_nodes |\n| ZFIN:ZDB-GENE-220914-1 | biolink:Gene | uts2r2 |     None    |                         ENSEMBL:ENSDARG00000115189|ZFIN:ZDB-GENE-220914-1|NCBIGene:110440145                         |                       LO017791.1                       |          urotensin 2 receptor 2          | NCBITaxon:7955 |  Danio rerio   | uts2r2 | alliance_gene_nodes |\n+------------------------+--------------+--------+-------------+----------------------------------------------------------------------------------------------------------------------+--------------------------------------------------------+------------------------------------------+----------------+----------------+--------+---------------------+",
      "text/html": "<table>\n    <thead>\n        <tr>\n            <th>id</th>\n            <th>category</th>\n            <th>name</th>\n            <th>description</th>\n            <th>xref</th>\n            <th>synonym</th>\n            <th>full_name</th>\n            <th>in_taxon</th>\n            <th>in_taxon_label</th>\n            <th>symbol</th>\n            <th>provided_by</th>\n        </tr>\n    </thead>\n    <tbody>\n        <tr>\n            <td>ZFIN:ZDB-GENE-010226-1</td>\n            <td>biolink:Gene</td>\n            <td>gdnfa</td>\n            <td>None</td>\n            <td>PANTHER:PTHR12173|NCBIGene:79379|ZFIN:ZDB-GENE-010226-1|ENSEMBL:ENSDARG00000039959|UniProtKB:A7E220|UniProtKB:Q98TU0</td>\n            <td>gdnf</td>\n            <td>glial cell derived neurotrophic factor a</td>\n            <td>NCBITaxon:7955</td>\n            <td>Danio rerio</td>\n            <td>gdnfa</td>\n            <td>alliance_gene_nodes</td>\n        </tr>\n        <tr>\n            <td>ZFIN:ZDB-GENE-000823-4</td>\n            <td>biolink:Gene</td>\n            <td>hoxa4a</td>\n            <td>None</td>\n            <td>UniProtKB:Q9PWL5|PANTHER:PTHR24326|ZFIN:ZDB-GENE-000823-4|UniProtKB:A0A8M9PB41|UniProtKB:A0A8M9PNI5|NCBIGene:58050</td>\n            <td>hoxx4|ZF-26|zf-es36|hoxzf26|zf26|ns:zf-es36|im:6899783</td>\n            <td>homeobox A4a</td>\n            <td>NCBITaxon:7955</td>\n            <td>Danio rerio</td>\n            <td>hoxa4a</td>\n            <td>alliance_gene_nodes</td>\n        </tr>\n        <tr>\n            <td>ZFIN:ZDB-GENE-220914-1</td>\n            <td>biolink:Gene</td>\n            <td>uts2r2</td>\n            <td>None</td>\n            <td>ENSEMBL:ENSDARG00000115189|ZFIN:ZDB-GENE-220914-1|NCBIGene:110440145</td>\n            <td>LO017791.1</td>\n            <td>urotensin 2 receptor 2</td>\n            <td>NCBITaxon:7955</td>\n            <td>Danio rerio</td>\n            <td>uts2r2</td>\n            <td>alliance_gene_nodes</td>\n        </tr>\n    </tbody>\n</table>"
     },
     "execution_count": 23,
     "metadata": {},
     "output_type": "execute_result"
    }
   ],
   "source": [
    "%sql select * from all_nodes limit 3;\n"
   ],
   "metadata": {
    "collapsed": false,
    "ExecuteTime": {
     "end_time": "2023-11-03T22:04:59.964980Z",
     "start_time": "2023-11-03T22:04:59.795615Z"
    }
   },
   "id": "7a43643b08b1c23b"
  },
  {
   "cell_type": "code",
   "execution_count": 24,
   "outputs": [
    {
     "data": {
      "text/plain": "Running query in 'DuckDBPyConnection'",
      "text/html": "<span style=\"None\">Running query in &#x27;DuckDBPyConnection&#x27;</span>"
     },
     "metadata": {},
     "output_type": "display_data"
    },
    {
     "data": {
      "text/plain": "+-------------------------------------------+------------------------+-----------------------+------------+--------------------------------------------+-----------------------------+--------------------------+------------------------+--------------+---------+------------+-----------------+----------+---------------------+-----------------+---------------+------------------------------+\n|                     id                    |        subject         |       predicate       |   object   |                  category                  | aggregator_knowledge_source | primary_knowledge_source |      publications      | has_evidence | negated | qualifiers | stage_qualifier | relation | frequency_qualifier | onset_qualifier | sex_qualifier |         provided_by          |\n+-------------------------------------------+------------------------+-----------------------+------------+--------------------------------------------+-----------------------------+--------------------------+------------------------+--------------+---------+------------+-----------------+----------+---------------------+-----------------+---------------+------------------------------+\n| uuid:4e2e2a42-7368-11ee-8e44-e629eea977ba | ZFIN:ZDB-GENE-210324-7 | biolink:has_phenotype | ZP:0012643 | biolink:GeneToPhenotypicFeatureAssociation |  infores:monarchinitiative  |       infores:zfin       | ZFIN:ZDB-PUB-201209-13 |     None     |   None  |    None    |       None      |   None   |         None        |       None      |      None     | zfin_gene_to_phenotype_edges |\n| uuid:4e2e3050-7368-11ee-8e44-e629eea977ba | ZFIN:ZDB-GENE-210324-7 | biolink:has_phenotype | ZP:0002478 | biolink:GeneToPhenotypicFeatureAssociation |  infores:monarchinitiative  |       infores:zfin       | ZFIN:ZDB-PUB-201209-13 |     None     |   None  |    None    |       None      |   None   |         None        |       None      |      None     | zfin_gene_to_phenotype_edges |\n| uuid:4e2e3406-7368-11ee-8e44-e629eea977ba | ZFIN:ZDB-GENE-210324-8 | biolink:has_phenotype | ZP:0012643 | biolink:GeneToPhenotypicFeatureAssociation |  infores:monarchinitiative  |       infores:zfin       | ZFIN:ZDB-PUB-201209-13 |     None     |   None  |    None    |       None      |   None   |         None        |       None      |      None     | zfin_gene_to_phenotype_edges |\n+-------------------------------------------+------------------------+-----------------------+------------+--------------------------------------------+-----------------------------+--------------------------+------------------------+--------------+---------+------------+-----------------+----------+---------------------+-----------------+---------------+------------------------------+",
      "text/html": "<table>\n    <thead>\n        <tr>\n            <th>id</th>\n            <th>subject</th>\n            <th>predicate</th>\n            <th>object</th>\n            <th>category</th>\n            <th>aggregator_knowledge_source</th>\n            <th>primary_knowledge_source</th>\n            <th>publications</th>\n            <th>has_evidence</th>\n            <th>negated</th>\n            <th>qualifiers</th>\n            <th>stage_qualifier</th>\n            <th>relation</th>\n            <th>frequency_qualifier</th>\n            <th>onset_qualifier</th>\n            <th>sex_qualifier</th>\n            <th>provided_by</th>\n        </tr>\n    </thead>\n    <tbody>\n        <tr>\n            <td>uuid:4e2e2a42-7368-11ee-8e44-e629eea977ba</td>\n            <td>ZFIN:ZDB-GENE-210324-7</td>\n            <td>biolink:has_phenotype</td>\n            <td>ZP:0012643</td>\n            <td>biolink:GeneToPhenotypicFeatureAssociation</td>\n            <td>infores:monarchinitiative</td>\n            <td>infores:zfin</td>\n            <td>ZFIN:ZDB-PUB-201209-13</td>\n            <td>None</td>\n            <td>None</td>\n            <td>None</td>\n            <td>None</td>\n            <td>None</td>\n            <td>None</td>\n            <td>None</td>\n            <td>None</td>\n            <td>zfin_gene_to_phenotype_edges</td>\n        </tr>\n        <tr>\n            <td>uuid:4e2e3050-7368-11ee-8e44-e629eea977ba</td>\n            <td>ZFIN:ZDB-GENE-210324-7</td>\n            <td>biolink:has_phenotype</td>\n            <td>ZP:0002478</td>\n            <td>biolink:GeneToPhenotypicFeatureAssociation</td>\n            <td>infores:monarchinitiative</td>\n            <td>infores:zfin</td>\n            <td>ZFIN:ZDB-PUB-201209-13</td>\n            <td>None</td>\n            <td>None</td>\n            <td>None</td>\n            <td>None</td>\n            <td>None</td>\n            <td>None</td>\n            <td>None</td>\n            <td>None</td>\n            <td>zfin_gene_to_phenotype_edges</td>\n        </tr>\n        <tr>\n            <td>uuid:4e2e3406-7368-11ee-8e44-e629eea977ba</td>\n            <td>ZFIN:ZDB-GENE-210324-8</td>\n            <td>biolink:has_phenotype</td>\n            <td>ZP:0012643</td>\n            <td>biolink:GeneToPhenotypicFeatureAssociation</td>\n            <td>infores:monarchinitiative</td>\n            <td>infores:zfin</td>\n            <td>ZFIN:ZDB-PUB-201209-13</td>\n            <td>None</td>\n            <td>None</td>\n            <td>None</td>\n            <td>None</td>\n            <td>None</td>\n            <td>None</td>\n            <td>None</td>\n            <td>None</td>\n            <td>zfin_gene_to_phenotype_edges</td>\n        </tr>\n    </tbody>\n</table>"
     },
     "execution_count": 24,
     "metadata": {},
     "output_type": "execute_result"
    }
   ],
   "source": [
    "%sql select * from all_edges limit 3;\n"
   ],
   "metadata": {
    "collapsed": false,
    "ExecuteTime": {
     "end_time": "2023-11-03T22:05:00.104830Z",
     "start_time": "2023-11-03T22:04:59.964418Z"
    }
   },
   "id": "226eaf1231f7d068"
  },
  {
   "cell_type": "code",
   "execution_count": null,
   "outputs": [],
   "source": [],
   "metadata": {
    "collapsed": false
   },
   "id": "f0ac3a9ff35f63d3"
  },
  {
   "cell_type": "code",
   "execution_count": 25,
   "outputs": [
    {
     "data": {
      "text/plain": "FloatProgress(value=0.0, layout=Layout(width='auto'), style=ProgressStyle(bar_color='black'))",
      "application/vnd.jupyter.widget-view+json": {
       "version_major": 2,
       "version_minor": 0,
       "model_id": "edab17a5a7814fd7af23580b3ef243cf"
      }
     },
     "metadata": {},
     "output_type": "display_data"
    },
    {
     "data": {
      "text/plain": "FloatProgress(value=0.0, layout=Layout(width='auto'), style=ProgressStyle(bar_color='black'))",
      "application/vnd.jupyter.widget-view+json": {
       "version_major": 2,
       "version_minor": 0,
       "model_id": "51e9bedee0e84726970e5d494d4062d2"
      }
     },
     "metadata": {},
     "output_type": "display_data"
    },
    {
     "data": {
      "text/plain": "<duckdb.duckdb.DuckDBPyConnection at 0x11fb1ce70>"
     },
     "execution_count": 25,
     "metadata": {},
     "output_type": "execute_result"
    }
   ],
   "source": [
    "# Performance when deleting dangling_edges from edges seems poor, so creating two tables as separate selects from a table that gets dropped may make more sense\n",
    "\n",
    "db.execute(\"\"\"\n",
    "create or replace table dangling_edges as\n",
    "select * from all_edges where not exists (select 1 from nodes where id = subject)\n",
    "union\n",
    "select * from all_edges where not exists (select 1 from nodes where id = object)\n",
    "\"\"\")\n",
    "\n",
    "db.execute(\"\"\"\n",
    "create or replace table edges as\n",
    "select * from all_edges where exists (select 1 from nodes where id = subject)\n",
    "union\n",
    "select * from all_edges where exists (select 1 from nodes where id = object)\n",
    "\"\"\")\n"
   ],
   "metadata": {
    "collapsed": false,
    "ExecuteTime": {
     "end_time": "2023-11-03T22:05:09.105294Z",
     "start_time": "2023-11-03T22:05:00.097699Z"
    }
   },
   "id": "365ebc24e85b657b"
  },
  {
   "cell_type": "code",
   "execution_count": 26,
   "outputs": [
    {
     "data": {
      "text/plain": "<duckdb.duckdb.DuckDBPyConnection at 0x11fb1ce70>"
     },
     "execution_count": 26,
     "metadata": {},
     "output_type": "execute_result"
    }
   ],
   "source": [
    "# create a duplicate nodes table that includes any node in all_nodes that has a duplicate id\n",
    "db.execute(\"\"\"\n",
    "create or replace table duplicate_nodes as\n",
    "select * from all_nodes where id in (select id from all_nodes group by id having count(*) > 1)\n",
    "\"\"\")\n",
    "\n",
    "# create a nodes table that excludes any duplicate nodes (based on id) from the all_nodes table\n",
    "db.execute(\"\"\"\n",
    "create or replace table nodes as\n",
    "select * from all_nodes where id not in (select id from duplicate_nodes)\n",
    "\"\"\")\n"
   ],
   "metadata": {
    "collapsed": false,
    "ExecuteTime": {
     "end_time": "2023-11-03T22:05:10.310385Z",
     "start_time": "2023-11-03T22:05:09.103273Z"
    }
   },
   "id": "bbb54cccad3ea29e"
  },
  {
   "cell_type": "code",
   "execution_count": 27,
   "outputs": [
    {
     "data": {
      "text/plain": "<duckdb.duckdb.DuckDBPyConnection at 0x11fb1ce70>"
     },
     "execution_count": 27,
     "metadata": {},
     "output_type": "execute_result"
    }
   ],
   "source": [
    "db.execute(\"\"\"\n",
    "drop table all_nodes;\n",
    "drop table all_edges;\n",
    "\"\"\")\n"
   ],
   "metadata": {
    "collapsed": false,
    "ExecuteTime": {
     "end_time": "2023-11-03T22:05:10.350206Z",
     "start_time": "2023-11-03T22:05:10.309086Z"
    }
   },
   "id": "5fd3062b786f36d8"
  },
  {
   "cell_type": "code",
   "execution_count": 28,
   "outputs": [
    {
     "data": {
      "text/plain": "FloatProgress(value=0.0, layout=Layout(width='auto'), style=ProgressStyle(bar_color='black'))",
      "application/vnd.jupyter.widget-view+json": {
       "version_major": 2,
       "version_minor": 0,
       "model_id": "4704686daa944eb18e21b4604ba353e5"
      }
     },
     "metadata": {},
     "output_type": "display_data"
    },
    {
     "data": {
      "text/plain": "FloatProgress(value=0.0, layout=Layout(width='auto'), style=ProgressStyle(bar_color='black'))",
      "application/vnd.jupyter.widget-view+json": {
       "version_major": 2,
       "version_minor": 0,
       "model_id": "513e101b52e845339d94739f905e62e9"
      }
     },
     "metadata": {},
     "output_type": "display_data"
    },
    {
     "data": {
      "text/plain": "<duckdb.duckdb.DuckDBPyConnection at 0x11fb1ce70>"
     },
     "execution_count": 28,
     "metadata": {},
     "output_type": "execute_result"
    }
   ],
   "source": [
    "# create indexes on nodes.id, edges.id, edges.subject, edges.object\n",
    "\n",
    "db.execute(\"\"\"\n",
    "create unique index nodes_id on nodes(id);\n",
    "create unique index edges_id on edges(id);\n",
    "create index edges_subject on edges(subject);\n",
    "create index edges_object on edges(object);\n",
    "\"\"\")"
   ],
   "metadata": {
    "collapsed": false,
    "ExecuteTime": {
     "end_time": "2023-11-03T22:07:14.950959Z",
     "start_time": "2023-11-03T22:07:04.735726Z"
    }
   },
   "id": "163799cbb2262a0"
  },
  {
   "cell_type": "code",
   "execution_count": 34,
   "outputs": [
    {
     "data": {
      "text/plain": "<duckdb.duckdb.DuckDBPyConnection at 0x11e80e2f0>"
     },
     "execution_count": 34,
     "metadata": {},
     "output_type": "execute_result"
    }
   ],
   "source": [
    "# export nodes, edges, duplicate_nodes and dangling_edges tables to TSV and parquet\n",
    "\n",
    "db.execute(f\"\"\"\n",
    "copy (select * from nodes) to '{output_dir}/nodes.tsv' (header, delimiter '\\t');\n",
    "copy (select * from edges) to '{output_dir}/edges.tsv' (header, delimiter '\\t');\n",
    "copy (select * from duplicate_nodes) to '{qc_dir}/duplicate_nodes.tsv' (header, delimiter '\\t');\n",
    "copy (select * from dangling_edges) to '{qc_dir}/dangling_edges.tsv' (header, delimiter '\\t');\n",
    "\"\"\")\n",
    "\n"
   ],
   "metadata": {
    "collapsed": false,
    "ExecuteTime": {
     "end_time": "2023-11-03T22:13:01.660808Z",
     "start_time": "2023-11-03T22:12:59.399165Z"
    }
   },
   "id": "fbe4a2eda0de396"
  },
  {
   "cell_type": "code",
   "execution_count": 36,
   "outputs": [
    {
     "data": {
      "text/plain": "FloatProgress(value=0.0, layout=Layout(width='auto'), style=ProgressStyle(bar_color='black'))",
      "application/vnd.jupyter.widget-view+json": {
       "version_major": 2,
       "version_minor": 0,
       "model_id": "68dcf0e9a9724444acd14877eed561d3"
      }
     },
     "metadata": {},
     "output_type": "display_data"
    },
    {
     "data": {
      "text/plain": "FloatProgress(value=0.0, layout=Layout(width='auto'), style=ProgressStyle(bar_color='black'))",
      "application/vnd.jupyter.widget-view+json": {
       "version_major": 2,
       "version_minor": 0,
       "model_id": "5e732b9878db4802ab84c97917bad4e6"
      }
     },
     "metadata": {},
     "output_type": "display_data"
    },
    {
     "data": {
      "text/plain": "<duckdb.duckdb.DuckDBPyConnection at 0x11e80e2f0>"
     },
     "execution_count": 36,
     "metadata": {},
     "output_type": "execute_result"
    }
   ],
   "source": [
    "db.execute(f\"\"\"\n",
    "copy (select * from nodes) to '{output_dir}/{kg_name}_nodes.parquet' (format parquet);\n",
    "copy (select * from edges) to '{output_dir}/{kg_name}_edges.parquet' (format parquet);\n",
    "copy (select * from duplicate_nodes) to '{qc_dir}/{kg_name}-duplicate_nodes.parquet' (format parquet);\n",
    "copy (select * from dangling_edges) to '{qc_dir}/{kg_name}-dangling_edges.parquet' (format parquet);\n",
    "\"\"\")\n"
   ],
   "metadata": {
    "collapsed": false,
    "ExecuteTime": {
     "end_time": "2023-11-03T22:13:47.781113Z",
     "start_time": "2023-11-03T22:13:40.894288Z"
    }
   },
   "id": "1fda8bb216a31e41"
  },
  {
   "cell_type": "code",
   "execution_count": 5,
   "outputs": [
    {
     "data": {
      "text/plain": "<duckdb.duckdb.DuckDBPyConnection at 0x143426fb0>"
     },
     "execution_count": 5,
     "metadata": {},
     "output_type": "execute_result"
    }
   ],
   "source": [
    "\n",
    "\n",
    "db.execute(f\"\"\"\n",
    " create or replace table mappings as select * from read_csv_auto('{mapping_files[1]}', sep='\\t', header=TRUE);\n",
    "\"\"\")\n"
   ],
   "metadata": {
    "collapsed": false,
    "ExecuteTime": {
     "end_time": "2023-11-07T22:24:37.952120Z",
     "start_time": "2023-11-07T22:24:37.226057Z"
    }
   },
   "id": "fce51a360131922f"
  },
  {
   "cell_type": "code",
   "execution_count": 66,
   "outputs": [
    {
     "ename": "SyntaxError",
     "evalue": "Missing parentheses in call to 'print'. Did you mean print(...)? (183395698.py, line 1)",
     "output_type": "error",
     "traceback": [
      "\u001B[0;36m  Cell \u001B[0;32mIn[66], line 1\u001B[0;36m\u001B[0m\n\u001B[0;31m    print db.execute(f\"\"\"\u001B[0m\n\u001B[0m    ^\u001B[0m\n\u001B[0;31mSyntaxError\u001B[0m\u001B[0;31m:\u001B[0m Missing parentheses in call to 'print'. Did you mean print(...)?\n"
     ]
    }
   ],
   "source": [
    "db.execute(f\"\"\"\n",
    " select * exclude(subject, object),\n",
    "    case when subject_mappings.subject_id is not null then subject_mappings.subject_id else subject end as subject \n",
    " from all_edges \n",
    " left join mappings as subject_mappings on subject = subject_mappings.object_id \n",
    "\"\"\")\n"
   ],
   "metadata": {
    "collapsed": false,
    "ExecuteTime": {
     "end_time": "2023-11-04T00:36:01.602703Z",
     "start_time": "2023-11-04T00:36:01.598693Z"
    }
   },
   "id": "8da5c6ee62c57ebf"
  },
  {
   "cell_type": "code",
   "execution_count": 13,
   "outputs": [
    {
     "data": {
      "text/plain": "Running query in 'DuckDBPyConnection'",
      "text/html": "<span style=\"None\">Running query in &#x27;DuckDBPyConnection&#x27;</span>"
     },
     "metadata": {},
     "output_type": "display_data"
    },
    {
     "data": {
      "text/plain": "+----------+\n|  Count   |\n+----------+\n| 12284692 |\n+----------+",
      "text/html": "<table>\n    <thead>\n        <tr>\n            <th>Count</th>\n        </tr>\n    </thead>\n    <tbody>\n        <tr>\n            <td>12284692</td>\n        </tr>\n    </tbody>\n</table>"
     },
     "execution_count": 13,
     "metadata": {},
     "output_type": "execute_result"
    }
   ],
   "source": [
    "%%sql\n",
    "\n",
    "select * exclude(subject, object),\n",
    "    case when subject_mappings.subject_id is not null then subject_mappings.subject_id else subject end as subject,\n",
    "    case when subject_mappings.subject_id is not null then subject else null end as original_subject,\n",
    "    case when subject_mappings.subject_id is not null then subject_mappings.subject_id else subject end as object,\n",
    "    case when subject_mappings.subject_id is not null then subject else null end as original_subject,\n",
    " from all_edges \n",
    " left join mappings as subject_mappings on subject = subject_mappings.object_id "
   ],
   "metadata": {
    "collapsed": false,
    "ExecuteTime": {
     "end_time": "2023-11-07T22:39:32.342846Z",
     "start_time": "2023-11-07T22:39:29.980597Z"
    }
   },
   "id": "ff03b9c1e2e50b20"
  },
  {
   "cell_type": "code",
   "execution_count": 14,
   "outputs": [
    {
     "data": {
      "text/plain": "Running query in 'DuckDBPyConnection'",
      "text/html": "<span style=\"None\">Running query in &#x27;DuckDBPyConnection&#x27;</span>"
     },
     "metadata": {},
     "output_type": "display_data"
    },
    {
     "data": {
      "text/plain": "+--------------+\n| count_star() |\n+--------------+\n|   12276486   |\n+--------------+",
      "text/html": "<table>\n    <thead>\n        <tr>\n            <th>count_star()</th>\n        </tr>\n    </thead>\n    <tbody>\n        <tr>\n            <td>12276486</td>\n        </tr>\n    </tbody>\n</table>"
     },
     "execution_count": 14,
     "metadata": {},
     "output_type": "execute_result"
    }
   ],
   "source": [],
   "metadata": {
    "collapsed": false,
    "ExecuteTime": {
     "end_time": "2023-11-07T22:41:03.836173Z",
     "start_time": "2023-11-07T22:41:03.822238Z"
    }
   },
   "id": "6bedc171a73eb752"
  },
  {
   "cell_type": "code",
   "execution_count": null,
   "outputs": [],
   "source": [],
   "metadata": {
    "collapsed": false
   },
   "id": "421c0e1acf4add20"
  }
 ],
 "metadata": {
  "kernelspec": {
   "display_name": "Python 3",
   "language": "python",
   "name": "python3"
  },
  "language_info": {
   "codemirror_mode": {
    "name": "ipython",
    "version": 2
   },
   "file_extension": ".py",
   "mimetype": "text/x-python",
   "name": "python",
   "nbconvert_exporter": "python",
   "pygments_lexer": "ipython2",
   "version": "2.7.6"
  }
 },
 "nbformat": 4,
 "nbformat_minor": 5
}
